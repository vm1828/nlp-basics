{
 "cells": [
  {
   "cell_type": "markdown",
   "metadata": {},
   "source": [
    "# Setup"
   ]
  },
  {
   "cell_type": "code",
   "execution_count": 1,
   "metadata": {},
   "outputs": [],
   "source": [
    "import re\n",
    "import random\n",
    "from collections import defaultdict"
   ]
  },
  {
   "cell_type": "code",
   "execution_count": 2,
   "metadata": {},
   "outputs": [],
   "source": [
    "TXT_FILE = 'data/pride_and_prejudice.txt'\n",
    "PUNCTUATION = '.;,-“’”:?—‘!()_'\n",
    "LINE_TO_EXCLUDE = r'(?i)^\\s*CHAPTER\\s*[IVXLCDM]+\\s*$'\n",
    "SPLITTING_TO_SENTENCES_PATTERN = r'/(?<!\\w\\.\\w.)(?<![A-Z][a-z]\\.)(?<=\\.|\\?)\\s/gm'"
   ]
  },
  {
   "cell_type": "markdown",
   "metadata": {},
   "source": [
    "# Bigram model"
   ]
  },
  {
   "cell_type": "code",
   "execution_count": 3,
   "metadata": {},
   "outputs": [
    {
     "name": "stdout",
     "output_type": "stream",
     "text": [
      "['them', 'concern', 'his', 'me']\n"
     ]
    }
   ],
   "source": [
    "# create successor map\n",
    "successor_map = defaultdict(list)\n",
    "window = []\n",
    "\n",
    "with open(TXT_FILE) as f:\n",
    "    text = f.read()\n",
    "    text = re.sub(LINE_TO_EXCLUDE, '', text, flags=re.MULTILINE | re.IGNORECASE)\n",
    "    for sentence in re.split(SPLITTING_TO_SENTENCES_PATTERN, text):\n",
    "\n",
    "        for word in sentence.split():\n",
    "            word = word.strip(PUNCTUATION).lower()\n",
    "            window.append(word)\n",
    "\n",
    "            if len(window) == 2:\n",
    "                successor_map[window[0]].append(window[1])\n",
    "                window.pop(0)\n",
    "\n",
    "print(successor_map['affect'])"
   ]
  },
  {
   "cell_type": "code",
   "execution_count": 4,
   "metadata": {},
   "outputs": [
    {
     "name": "stdout",
     "output_type": "stream",
     "text": [
      "you hold her approbation need not know your feelings she should be acceptable "
     ]
    }
   ],
   "source": [
    "# generate text\n",
    "random.seed(15)\n",
    "N_WORDS = 12\n",
    "\n",
    "word = 'you'\n",
    "print(word, end=' ')\n",
    "for _ in range(N_WORDS):\n",
    "  print(word :=random.choice(successor_map[word]), end=' ')"
   ]
  },
  {
   "cell_type": "markdown",
   "metadata": {},
   "source": [
    "# N-gram model"
   ]
  },
  {
   "cell_type": "code",
   "execution_count": 5,
   "metadata": {},
   "outputs": [
    {
     "name": "stdout",
     "output_type": "stream",
     "text": [
      "['young', 'great', 'very', 'good', 'good', 'gentleman’s']\n"
     ]
    }
   ],
   "source": [
    "# create successor map\n",
    "N_GRAM = 4\n",
    "successor_map = defaultdict(list)\n",
    "window = []\n",
    "\n",
    "with open(TXT_FILE) as f:\n",
    "    text = f.read()\n",
    "    text = re.sub(LINE_TO_EXCLUDE, '', text, flags=re.MULTILINE | re.IGNORECASE)\n",
    "    for sentence in re.split(SPLITTING_TO_SENTENCES_PATTERN, text):\n",
    "\n",
    "        for word in sentence.split():\n",
    "            word = word.strip(PUNCTUATION).lower()\n",
    "            window.append(word)\n",
    "\n",
    "            if len(window) == N_GRAM:\n",
    "                n_gram_key = tuple([window[i] for i in range(N_GRAM-1)])\n",
    "                successor_map[n_gram_key].append(window[N_GRAM-1])\n",
    "                window.pop(0)\n",
    "\n",
    "print(successor_map[('you', 'are', 'a')])"
   ]
  },
  {
   "cell_type": "code",
   "execution_count": 6,
   "metadata": {},
   "outputs": [
    {
     "name": "stdout",
     "output_type": "stream",
     "text": [
      "you are a great deal nor did she give herself the trouble of talking or of listening much\n"
     ]
    }
   ],
   "source": [
    "# generate text\n",
    "random.seed(15)\n",
    "N_WORDS = 15\n",
    "\n",
    "word_sequence = ['you', 'are', 'a']\n",
    "result = word_sequence.copy()\n",
    "for _ in range(N_WORDS):\n",
    "  next_word = random.choice(successor_map[tuple(word_sequence)])\n",
    "  word_sequence.pop(0)\n",
    "  word_sequence.append(next_word)\n",
    "  result.append(next_word)\n",
    "\n",
    "print(' '.join(result))"
   ]
  }
 ],
 "metadata": {
  "kernelspec": {
   "display_name": ".venv",
   "language": "python",
   "name": "python3"
  },
  "language_info": {
   "codemirror_mode": {
    "name": "ipython",
    "version": 3
   },
   "file_extension": ".py",
   "mimetype": "text/x-python",
   "name": "python",
   "nbconvert_exporter": "python",
   "pygments_lexer": "ipython3",
   "version": "3.9.0"
  }
 },
 "nbformat": 4,
 "nbformat_minor": 2
}
