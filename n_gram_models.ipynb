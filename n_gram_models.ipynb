{
 "cells": [
  {
   "cell_type": "markdown",
   "metadata": {},
   "source": [
    "# Setup"
   ]
  },
  {
   "cell_type": "code",
   "execution_count": 1,
   "metadata": {},
   "outputs": [],
   "source": [
    "import re\n",
    "import random\n",
    "from collections import defaultdict"
   ]
  },
  {
   "cell_type": "code",
   "execution_count": 2,
   "metadata": {},
   "outputs": [],
   "source": [
    "TXT_FILE = 'data/pride_and_prejudice.txt'\n",
    "PUNCTUATION = '.;,-“’”:?—‘!()_'\n",
    "LINE_TO_EXCLUDE = r'(?i)^\\s*CHAPTER\\s*[IVXLCDM]+\\s*$'\n",
    "SPLITTING_TO_SENTENCES_PATTERN = r'/(?<!\\w\\.\\w.)(?<![A-Z][a-z]\\.)(?<=\\.|\\?)\\s/gm'"
   ]
  },
  {
   "cell_type": "markdown",
   "metadata": {},
   "source": [
    "# Bigram model"
   ]
  },
  {
   "cell_type": "code",
   "execution_count": 3,
   "metadata": {},
   "outputs": [
    {
     "name": "stdout",
     "output_type": "stream",
     "text": [
      "['them', 'concern', 'his', 'me']\n"
     ]
    }
   ],
   "source": [
    "# create successor map\n",
    "successor_map = defaultdict(list)\n",
    "window = []\n",
    "\n",
    "with open(TXT_FILE) as f:\n",
    "    text = f.read()\n",
    "    text = re.sub(LINE_TO_EXCLUDE, '', text, flags=re.MULTILINE | re.IGNORECASE)\n",
    "    for sentence in re.split(SPLITTING_TO_SENTENCES_PATTERN, text):\n",
    "\n",
    "        for word in sentence.split():\n",
    "            word = word.strip(PUNCTUATION).lower()\n",
    "            window.append(word)\n",
    "\n",
    "            if len(window) == 2:\n",
    "                successor_map[window[0]].append(window[1])\n",
    "                window.pop(0)\n",
    "\n",
    "print(successor_map['affect'])"
   ]
  },
  {
   "cell_type": "code",
   "execution_count": 4,
   "metadata": {},
   "outputs": [
    {
     "name": "stdout",
     "output_type": "stream",
     "text": [
      "['you', 'hold', 'her', 'approbation', 'need', 'not', 'know', 'your', 'feelings', 'she', 'should']\n"
     ]
    }
   ],
   "source": [
    "# generate text\n",
    "random.seed(15)\n",
    "n_words = 10\n",
    "word = \"you\"\n",
    "result = [word]\n",
    "for _ in range(10):\n",
    "    result.append(word := random.choice(successor_map[word]))\n",
    "print(result)"
   ]
  }
 ],
 "metadata": {
  "kernelspec": {
   "display_name": ".venv",
   "language": "python",
   "name": "python3"
  },
  "language_info": {
   "codemirror_mode": {
    "name": "ipython",
    "version": 3
   },
   "file_extension": ".py",
   "mimetype": "text/x-python",
   "name": "python",
   "nbconvert_exporter": "python",
   "pygments_lexer": "ipython3",
   "version": "3.9.0"
  }
 },
 "nbformat": 4,
 "nbformat_minor": 2
}
