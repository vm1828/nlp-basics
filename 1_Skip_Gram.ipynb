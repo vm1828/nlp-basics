{
 "cells": [
  {
   "cell_type": "markdown",
   "metadata": {},
   "source": [
    "# SETUP"
   ]
  },
  {
   "cell_type": "markdown",
   "metadata": {},
   "source": [
    "## Constants"
   ]
  },
  {
   "cell_type": "code",
   "execution_count": 1,
   "metadata": {},
   "outputs": [],
   "source": [
    "# Generating skip-grams\n",
    "\n",
    "CONTEXT_WINDOW_SIZE = 12\n",
    "\n",
    "# Hyperparameters\n",
    "EPOCHS = 200\n",
    "LR = 0.001\n",
    "BATCH_SIZE = 32\n",
    "EMB_DIM = 30"
   ]
  },
  {
   "cell_type": "markdown",
   "metadata": {},
   "source": [
    "## Import"
   ]
  },
  {
   "cell_type": "code",
   "execution_count": 2,
   "metadata": {},
   "outputs": [],
   "source": [
    "import os\n",
    "from shared.constants import *\n",
    "from shared.models import SavedModelSkipGram, HyperparametersSkipGram\n",
    "\n",
    "import re\n",
    "from nltk import word_tokenize, sent_tokenize\n",
    "\n",
    "import torch\n",
    "import torch.nn as nn\n",
    "from torch.optim import Adam\n",
    "from torch.utils.data import TensorDataset, DataLoader\n",
    "import lightning as L\n",
    "from pytorch_lightning.loggers import TensorBoardLogger\n",
    "\n",
    "from sklearn.manifold import TSNE\n",
    "import matplotlib.pyplot as plt\n",
    "import seaborn as sns"
   ]
  },
  {
   "cell_type": "markdown",
   "metadata": {},
   "source": [
    "# DATA"
   ]
  },
  {
   "cell_type": "code",
   "execution_count": 3,
   "metadata": {},
   "outputs": [],
   "source": [
    "with open(TXT_FILE) as f:\n",
    "    text = f.read()\n",
    "    text = re.sub(PATTERN_CHAPTER_LINE, '', text, flags=re.MULTILINE | re.IGNORECASE)"
   ]
  },
  {
   "cell_type": "markdown",
   "metadata": {},
   "source": [
    "## Tokenized Corpus"
   ]
  },
  {
   "cell_type": "code",
   "execution_count": 4,
   "metadata": {},
   "outputs": [
    {
     "name": "stdout",
     "output_type": "stream",
     "text": [
      "[['It', 'is', 'a', 'truth', 'universally', 'acknowledged', 'that', 'a', 'single', 'man', 'in', 'possession', 'of', 'a', 'good', 'fortune', 'must', 'be', 'in', 'want', 'of', 'a', 'wife', '<EOS>'], ['However', 'little', 'known', 'the', 'feelings', 'or', 'views', 'of', 'such', 'a', 'man', 'may', 'be', 'on', 'his', 'first', 'entering', 'a', 'neighbourhood', 'this', 'truth', 'is', 'so', 'well', 'fixed', 'in', 'the', 'minds', 'of', 'the', 'surrounding', 'families', 'that', 'he', 'is', 'considered', 'as', 'the', 'rightful', 'property', 'of', 'some', 'one', 'or', 'other', 'of', 'their', 'daughters', '<EOS>'], ['My', 'dear', 'Mr', 'Bennet', 'said', 'his', 'lady', 'to', 'him', 'one', 'day', 'have', 'you', 'heard', 'that', 'Netherfield', 'Park', 'is', 'let', 'at', 'last', 'Mr', 'Bennet', 'replied', 'that', 'he', 'had', 'not', '<EOS>']]\n"
     ]
    }
   ],
   "source": [
    "sentences = sent_tokenize(text)\n",
    "tokenized_corpus = []\n",
    "\n",
    "for sentence in sentences:\n",
    "    tokens = []\n",
    "    for word in word_tokenize(sentence):\n",
    "        word = word.strip(PUNCTUATION)\n",
    "        if word:\n",
    "            tokens.append(word)\n",
    "    tokens.append('<EOS>')\n",
    "    tokenized_corpus.append(tokens)\n",
    "\n",
    "print(tokenized_corpus[:3])"
   ]
  },
  {
   "cell_type": "markdown",
   "metadata": {},
   "source": [
    "## Indexed Corpus"
   ]
  },
  {
   "cell_type": "code",
   "execution_count": 5,
   "metadata": {},
   "outputs": [
    {
     "name": "stdout",
     "output_type": "stream",
     "text": [
      "[2461, 2656, 1575, 3326, 5364, 4594, 620, 1575, 1721, 1027, 2923, 2762, 4147, 1575, 5249, 4378, 4764, 1787, 2923, 1092, 4147, 1575, 5326, 1625]\n",
      "4553\n",
      "6747\n"
     ]
    }
   ],
   "source": [
    "# Build vocabulary\n",
    "WORD2IDX = {word: idx for idx, word in enumerate(set(sum(tokenized_corpus, [])))}\n",
    "IDX2WORD = {idx: word for word, idx in WORD2IDX.items()}\n",
    "VOCAB_SIZE = len(WORD2IDX)\n",
    "# Convert tokenized corpus to indexed corpus\n",
    "indexed_corpus = [[WORD2IDX[word] for word in sentence] for sentence in tokenized_corpus]\n",
    "\n",
    "print(indexed_corpus[0])\n",
    "print(len(indexed_corpus))\n",
    "print(VOCAB_SIZE)"
   ]
  },
  {
   "cell_type": "markdown",
   "metadata": {},
   "source": [
    "## Skip-Gram Pairs"
   ]
  },
  {
   "cell_type": "code",
   "execution_count": 6,
   "metadata": {},
   "outputs": [
    {
     "name": "stdout",
     "output_type": "stream",
     "text": [
      "(2461, 2656)\n",
      "100\n"
     ]
    }
   ],
   "source": [
    "def generate_skipgrams(indexed_corpus, window_size=CONTEXT_WINDOW_SIZE): \n",
    "    data = []\n",
    "    for sentence in indexed_corpus:\n",
    "        for i, target in enumerate(sentence):\n",
    "            window = range(max(0, i-window_size), min(len(sentence), i+window_size+1))\n",
    "            context = [sentence[j] for j in window if j!=i]\n",
    "            for ctx in context:\n",
    "                data.append((target, ctx)) # pair every word with each word in the context\n",
    "    return data\n",
    "\n",
    "skipgram_pairs = generate_skipgrams(indexed_corpus)[:100]\n",
    "print(skipgram_pairs[0])\n",
    "print(len(skipgram_pairs))"
   ]
  },
  {
   "cell_type": "markdown",
   "metadata": {},
   "source": [
    "## Train Data"
   ]
  },
  {
   "cell_type": "code",
   "execution_count": 7,
   "metadata": {},
   "outputs": [],
   "source": [
    "X_train = torch.LongTensor([pair[0] for pair in skipgram_pairs])  # target words\n",
    "y_train = torch.LongTensor([pair[1] for pair in skipgram_pairs])  # context words\n",
    "# nn.Embedding and nn.CrossEntropyLoss require torch.int64 (LongTensor) inputs for indexing and categorical targets.\n",
    "\n",
    "dataset = TensorDataset(X_train, y_train)\n",
    "dataloader = DataLoader(dataset, batch_size=4, shuffle=True)"
   ]
  },
  {
   "cell_type": "markdown",
   "metadata": {},
   "source": [
    "# MODEL"
   ]
  },
  {
   "cell_type": "markdown",
   "metadata": {},
   "source": [
    "## From Scratch"
   ]
  },
  {
   "cell_type": "code",
   "execution_count": 8,
   "metadata": {},
   "outputs": [],
   "source": [
    "\n",
    "# class SkipGramModelFromScratch(L.LightningModule):\n",
    "\n",
    "#     def __init__(self):\n",
    "#         super().__init__()\n",
    "#         L.seed_everything(seed=42)\n",
    "#         self.input_to_hidden = nn.Linear(in_features=len(dataset), out_features=EMB_DIM, bias=False)\n",
    "#         self.hidden_to_output = nn.Linear(in_features=2, out_features=4, bias=False)\n",
    "#         self.loss = nn.CrossEntropyLoss()\n",
    "\n",
    "#     def forward(self, input):\n",
    "#         hidden = self.input_to_hidden(input)\n",
    "#         # Then we pass \"hidden\" to the weights we created with nn.Linear() between the hidden layer and the output.\n",
    "#         output_values = self.hidden_to_output(hidden)\n",
    "#         return(output_values)\n",
    "\n",
    "\n",
    "#     def configure_optimizers(self):\n",
    "#         return Adam(self.parameters(), lr=LR)\n",
    "\n",
    "\n",
    "#     def training_step(self, batch, batch_idx):\n",
    "#         input_i, label_i = batch\n",
    "#         output_i = self.forward(input_i)\n",
    "#         loss = self.loss(output_i, label_i)\n",
    "        \n",
    "#         self.log(\"train_loss\", loss)\n",
    "\n",
    "#         return loss"
   ]
  },
  {
   "cell_type": "markdown",
   "metadata": {},
   "source": [
    "## nn.Embedding"
   ]
  },
  {
   "cell_type": "code",
   "execution_count": 9,
   "metadata": {},
   "outputs": [
    {
     "name": "stderr",
     "output_type": "stream",
     "text": [
      "You are using the plain ModelCheckpoint callback. Consider using LitModelCheckpoint which with seamless uploading to Model registry.\n",
      "GPU available: False, used: False\n",
      "TPU available: False, using: 0 TPU cores\n",
      "HPU available: False, using: 0 HPUs\n",
      "\n",
      "  | Name       | Type             | Params | Mode \n",
      "--------------------------------------------------------\n",
      "0 | embeddings | Embedding        | 202 K  | train\n",
      "1 | linear     | Linear           | 209 K  | train\n",
      "2 | loss       | CrossEntropyLoss | 0      | train\n",
      "--------------------------------------------------------\n",
      "411 K     Trainable params\n",
      "0         Non-trainable params\n",
      "411 K     Total params\n",
      "1.646     Total estimated model params size (MB)\n",
      "3         Modules in train mode\n",
      "0         Modules in eval mode\n",
      "/home/asdf/Desktop/nlp-basics/.venv/lib/python3.10/site-packages/lightning/pytorch/trainer/connectors/data_connector.py:425: The 'train_dataloader' does not have many workers which may be a bottleneck. Consider increasing the value of the `num_workers` argument` to `num_workers=7` in the `DataLoader` to improve performance.\n",
      "/home/asdf/Desktop/nlp-basics/.venv/lib/python3.10/site-packages/lightning/pytorch/loops/fit_loop.py:310: The number of training batches (25) is smaller than the logging interval Trainer(log_every_n_steps=50). Set a lower value for log_every_n_steps if you want to see logs for the training epoch.\n"
     ]
    },
    {
     "name": "stdout",
     "output_type": "stream",
     "text": [
      "Epoch 199: 100%|██████████| 25/25 [00:00<00:00, 83.58it/s, v_num=0] "
     ]
    },
    {
     "name": "stderr",
     "output_type": "stream",
     "text": [
      "`Trainer.fit` stopped: `max_epochs=200` reached.\n"
     ]
    },
    {
     "name": "stdout",
     "output_type": "stream",
     "text": [
      "Epoch 199: 100%|██████████| 25/25 [00:00<00:00, 80.35it/s, v_num=0]\n",
      "Model saved to models/skipgram_context12_emb30_e200_lr0.001.pth\n"
     ]
    }
   ],
   "source": [
    "# %%capture\n",
    "# sys.exit(\"Manual execution required\")\n",
    "\n",
    "MODEL_NAME = f'skipgram_context{CONTEXT_WINDOW_SIZE}_emb{EMB_DIM}_e{EPOCHS}_lr{LR}'\n",
    "HYPERPARAMETERS = HyperparametersSkipGram(EPOCHS, LR, BATCH_SIZE, EMB_DIM, VOCAB_SIZE)\n",
    "\n",
    "class SkipGramModelEmbedding(L.LightningModule):\n",
    "\n",
    "    def __init__(self, vocab_size, emb_dim):\n",
    "        super().__init__()\n",
    "        self.embeddings = nn.Embedding(vocab_size, emb_dim)\n",
    "        self.linear = nn.Linear(emb_dim, vocab_size)\n",
    "        self.loss = nn.CrossEntropyLoss()\n",
    "\n",
    "    def forward(self, context_word):\n",
    "        embedding = self.embeddings(context_word)\n",
    "        output = self.linear(embedding)\n",
    "        return output\n",
    "    \n",
    "    def configure_optimizers(self):\n",
    "        return Adam(self.parameters(), lr=LR)\n",
    "\n",
    "    def training_step(self, batch, batch_idx):\n",
    "        input_i, label_i = batch\n",
    "        output_i = self.forward(input_i)\n",
    "        loss = self.loss(output_i, label_i)\n",
    "\n",
    "        self.log(\"train_loss\", loss)\n",
    "        \n",
    "        return loss\n",
    "    \n",
    "    def on_train_end(self):\n",
    "        \"\"\"Save the model after training is complete.\"\"\"\n",
    "        saved_model = SavedModelSkipGram(\n",
    "            model_state_dict=self.state_dict(),\n",
    "            model_hyperparameters=HYPERPARAMETERS\n",
    "        )\n",
    "        saved_model.save_model(MODEL_NAME)\n",
    "\n",
    "if os.path.exists(os.path.join('models', f'{MODEL_NAME}.')):\n",
    "    raise FileExistsError(f\"Model already exists, please choose a different model name.pth\")\n",
    "\n",
    "modelEmbedding = SkipGramModelEmbedding(VOCAB_SIZE, EMB_DIM)\n",
    "trainer = L.Trainer(max_epochs=EPOCHS, logger=TensorBoardLogger(f\"models/logs/\", name=MODEL_NAME))\n",
    "trainer.fit(modelEmbedding, train_dataloaders=dataloader)"
   ]
  },
  {
   "cell_type": "markdown",
   "metadata": {},
   "source": [
    "# DEMO"
   ]
  },
  {
   "cell_type": "code",
   "execution_count": 10,
   "metadata": {},
   "outputs": [
    {
     "data": {
      "text/plain": [
       "<All keys matched successfully>"
      ]
     },
     "execution_count": 10,
     "metadata": {},
     "output_type": "execute_result"
    }
   ],
   "source": [
    "# Load model\n",
    "\n",
    "checkpoint = torch.load(f\"models/{MODEL_NAME}.pth\", weights_only=False)\n",
    "\n",
    "hyperparameters: HyperparametersSkipGram = checkpoint.model_hyperparameters\n",
    "model = SkipGramModelEmbedding(hyperparameters.vocab_size, hyperparameters.emb_dim)\n",
    "model.load_state_dict(checkpoint.model_state_dict)"
   ]
  },
  {
   "cell_type": "code",
   "execution_count": 11,
   "metadata": {},
   "outputs": [],
   "source": [
    "def visualize_words_embedding(model):\n",
    "  \n",
    "  words = [\n",
    "    'Elizabeth', 'Darcy', 'Bingley', 'Lydia', 'Jane', 'Collins', 'Pemberley', \n",
    "    'Meryton', 'Lady', 'Wickham', 'marriage', 'love', 'prejudice', 'fortune', \n",
    "    'accomplished', 'pride', 'sense', 'character', 'family', 'society',\n",
    "    'husband', 'wife', 'man', 'woman', 'summer', 'spring', 'winter'\n",
    "  ]\n",
    "  \n",
    "  indices = [WORD2IDX[word] for word in words]\n",
    "  embeddings = model.embeddings.weight.data[indices]\n",
    "\n",
    "  tsne = TSNE(n_components=2, perplexity=20, random_state=42) # 2d t-SNE\n",
    "  embeddings_2d = tsne.fit_transform(embeddings)\n",
    "\n",
    "  colors = sns.husl_palette(n_colors = len(words))\n",
    "  plt.figure(figsize=(10, 10))\n",
    "  for i, word in enumerate(words):\n",
    "    plt.scatter(embeddings_2d[:, 0], embeddings_2d[:, 1],c=colors)\n",
    "    plt.annotate(word, xy=(embeddings_2d[i, 0], embeddings_2d[i, 1]))\n",
    "  \n",
    "  plt.show();"
   ]
  },
  {
   "cell_type": "code",
   "execution_count": 12,
   "metadata": {},
   "outputs": [
    {
     "data": {
      "image/png": "[encoded data removed]",
      "text/plain": [
       "<Figure size 1000x1000 with 1 Axes>"
      ]
     },
     "metadata": {},
     "output_type": "display_data"
    }
   ],
   "source": [
    "visualize_words_embedding(model)"
   ]
  }
 ],
 "metadata": {
  "kernelspec": {
   "display_name": ".venv",
   "language": "python",
   "name": "python3"
  },
  "language_info": {
   "codemirror_mode": {
    "name": "ipython",
    "version": 3
   },
   "file_extension": ".py",
   "mimetype": "text/x-python",
   "name": "python",
   "nbconvert_exporter": "python",
   "pygments_lexer": "ipython3",
   "version": "3.10.12"
  }
 },
 "nbformat": 4,
 "nbformat_minor": 2
}
