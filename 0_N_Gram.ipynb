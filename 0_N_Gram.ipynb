{
  "cells": [
    {
      "cell_type": "markdown",
      "metadata": {
        "id": "mEOcCDEVY5El"
      },
      "source": [
        "# Setup"
      ]
    },
    {
      "cell_type": "code",
      "execution_count": 1,
      "metadata": {
        "id": "Id56WwaOY5En"
      },
      "outputs": [],
      "source": [
        "import re\n",
        "import random\n",
        "from collections import defaultdict\n",
        "\n",
        "from shared.constants import *"
      ]
    },
    {
      "cell_type": "code",
      "execution_count": 2,
      "metadata": {
        "colab": {
          "base_uri": "https://localhost:8080/"
        },
        "id": "lP9J_bQJadv6",
        "outputId": "743e14ea-d94e-4e74-bed2-d409d390774a"
      },
      "outputs": [],
      "source": [
        "%%capture\n",
        "txt_file_url = 'https://raw.githubusercontent.com/vm1828/nlp-basics/main/data/pride_and_prejudice.txt'\n",
        "!mkdir data\n",
        "!wget --no-cache --no-check-certificate {txt_file_url} -O {TXT_FILE}"
      ]
    },
    {
      "cell_type": "markdown",
      "metadata": {
        "id": "82cVlPjxY5Eo"
      },
      "source": [
        "# Bigram model"
      ]
    },
    {
      "cell_type": "code",
      "execution_count": 3,
      "metadata": {
        "colab": {
          "base_uri": "https://localhost:8080/"
        },
        "id": "s69XVQ2cY5Ep",
        "outputId": "55a3808f-df9a-4bb1-ebb3-18da46d5c8ec"
      },
      "outputs": [
        {
          "name": "stdout",
          "output_type": "stream",
          "text": [
            "['them', 'concern', 'his', 'me']\n"
          ]
        }
      ],
      "source": [
        "# create successor map\n",
        "successor_map = defaultdict(list)\n",
        "window = []\n",
        "\n",
        "with open(TXT_FILE) as f:\n",
        "    text = f.read()\n",
        "    text = re.sub(CHAPTER_LINE, '', text, flags=re.MULTILINE | re.IGNORECASE)\n",
        "    # for sentence in re.split(SPLITTING_TO_SENTENCES_PATTERN_DIRECT_SPEECH, text):\n",
        "    for word in text.split():\n",
        "        word = word.strip(PUNCTUATION).lower()\n",
        "        window.append(word)\n",
        "\n",
        "        if len(window) == 2:\n",
        "            successor_map[window[0]].append(window[1])\n",
        "            window.pop(0)\n",
        "\n",
        "print(successor_map['affect'])"
      ]
    },
    {
      "cell_type": "code",
      "execution_count": 4,
      "metadata": {
        "colab": {
          "base_uri": "https://localhost:8080/"
        },
        "id": "p-cGdSeqY5Eq",
        "outputId": "04831bbc-d69f-4138-8963-7d5074344bbb"
      },
      "outputs": [
        {
          "name": "stdout",
          "output_type": "stream",
          "text": [
            "you hold her approbation need not know your feelings she should be acceptable "
          ]
        }
      ],
      "source": [
        "# generate text\n",
        "random.seed(15)\n",
        "N_WORDS = 12\n",
        "\n",
        "word = 'you'\n",
        "print(word, end=' ')\n",
        "for _ in range(N_WORDS):\n",
        "  print(word :=random.choice(successor_map[word]), end=' ')"
      ]
    },
    {
      "cell_type": "markdown",
      "metadata": {
        "id": "9fT906sEY5Eq"
      },
      "source": [
        "# N-gram model"
      ]
    },
    {
      "cell_type": "code",
      "execution_count": 5,
      "metadata": {
        "colab": {
          "base_uri": "https://localhost:8080/"
        },
        "id": "xUJBtM_TY5Eq",
        "outputId": "c9f4fd05-4ea0-4c9f-bad4-7167a7088425"
      },
      "outputs": [
        {
          "name": "stdout",
          "output_type": "stream",
          "text": [
            "['young', 'great', 'very', 'good', 'good', 'gentleman’s']\n"
          ]
        }
      ],
      "source": [
        "# create successor map\n",
        "N_GRAM = 4\n",
        "successor_map = defaultdict(list)\n",
        "window = []\n",
        "\n",
        "with open(TXT_FILE) as f:\n",
        "    text = f.read()\n",
        "    text = re.sub(CHAPTER_LINE, '', text, flags=re.MULTILINE | re.IGNORECASE)\n",
        "    # for sentence in re.split(SPLITTING_TO_SENTENCES_PATTERN_DIRECT_SPEECH, text):\n",
        "    for word in text.split():\n",
        "        word = word.strip(PUNCTUATION).lower()\n",
        "        window.append(word)\n",
        "\n",
        "        if len(window) == N_GRAM:\n",
        "            n_gram_key = tuple([window[i] for i in range(N_GRAM-1)])\n",
        "            successor_map[n_gram_key].append(window[N_GRAM-1])\n",
        "            window.pop(0)\n",
        "\n",
        "print(successor_map[('you', 'are', 'a')])"
      ]
    },
    {
      "cell_type": "code",
      "execution_count": 6,
      "metadata": {
        "colab": {
          "base_uri": "https://localhost:8080/"
        },
        "id": "GZN4y6W4Y5Eq",
        "outputId": "0c80b75a-a161-4db1-a185-b04b25b4c3cc"
      },
      "outputs": [
        {
          "name": "stdout",
          "output_type": "stream",
          "text": [
            "you are a great deal nor did she give herself the trouble of talking or of listening much\n"
          ]
        }
      ],
      "source": [
        "# generate text\n",
        "random.seed(15)\n",
        "N_WORDS = 15\n",
        "\n",
        "word_sequence = ['you', 'are', 'a']\n",
        "result = word_sequence.copy()\n",
        "for _ in range(N_WORDS):\n",
        "  next_word = random.choice(successor_map[tuple(word_sequence)])\n",
        "  word_sequence.pop(0)\n",
        "  word_sequence.append(next_word)\n",
        "  result.append(next_word)\n",
        "\n",
        "print(' '.join(result))"
      ]
    }
  ],
  "metadata": {
    "colab": {
      "provenance": []
    },
    "kernelspec": {
      "display_name": ".venv",
      "language": "python",
      "name": "python3"
    },
    "language_info": {
      "codemirror_mode": {
        "name": "ipython",
        "version": 3
      },
      "file_extension": ".py",
      "mimetype": "text/x-python",
      "name": "python",
      "nbconvert_exporter": "python",
      "pygments_lexer": "ipython3",
      "version": "3.10.12"
    }
  },
  "nbformat": 4,
  "nbformat_minor": 0
}
