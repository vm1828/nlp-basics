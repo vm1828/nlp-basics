{
  "cells": [
    {
      "cell_type": "markdown",
      "metadata": {
        "id": "mEOcCDEVY5El"
      },
      "source": [
        "# SETUP"
      ]
    },
    {
      "cell_type": "markdown",
      "metadata": {},
      "source": [
        "## Import"
      ]
    },
    {
      "cell_type": "code",
      "execution_count": 1,
      "metadata": {
        "id": "Id56WwaOY5En"
      },
      "outputs": [],
      "source": [
        "import re\n",
        "import random\n",
        "from collections import defaultdict\n",
        "\n",
        "from shared.constants import *\n",
        "from shared.corpus import Corpus"
      ]
    },
    {
      "cell_type": "markdown",
      "metadata": {},
      "source": [
        "## Constants"
      ]
    },
    {
      "cell_type": "code",
      "execution_count": 2,
      "metadata": {},
      "outputs": [],
      "source": [
        "N_WORDS = 15 # words to generate\n",
        "N_GRAM = 4   # n-gram size"
      ]
    },
    {
      "cell_type": "markdown",
      "metadata": {},
      "source": [
        "## Settings"
      ]
    },
    {
      "cell_type": "code",
      "execution_count": 3,
      "metadata": {},
      "outputs": [],
      "source": [
        "random.seed(42)"
      ]
    },
    {
      "cell_type": "markdown",
      "metadata": {},
      "source": [
        "# DATA"
      ]
    },
    {
      "cell_type": "code",
      "execution_count": 4,
      "metadata": {
        "colab": {
          "base_uri": "https://localhost:8080/"
        },
        "id": "lP9J_bQJadv6",
        "outputId": "743e14ea-d94e-4e74-bed2-d409d390774a"
      },
      "outputs": [],
      "source": [
        "# %%capture\n",
        "# txt_file_url = 'https://raw.githubusercontent.com/vm1828/nlp-basics/main/data/pnp/pnp.txt'\n",
        "# !mkdir data\n",
        "# !wget --no-cache --no-check-certificate {txt_file_url} -O {TXT_PNP}"
      ]
    },
    {
      "cell_type": "code",
      "execution_count": 5,
      "metadata": {},
      "outputs": [],
      "source": [
        "pnp_corpus = Corpus(DIR_PNP, no_punct=True, to_lower=True)\n",
        "hp_corpus = Corpus(DIR_HP, no_punct=True, to_lower=True)\n",
        "\n",
        "pnp_tokens = pnp_corpus.tokens\n",
        "hp_tokens = hp_corpus.tokens"
      ]
    },
    {
      "cell_type": "markdown",
      "metadata": {},
      "source": [
        "# MODELS"
      ]
    },
    {
      "cell_type": "markdown",
      "metadata": {},
      "source": [
        "## BiGram Model"
      ]
    },
    {
      "cell_type": "code",
      "execution_count": 6,
      "metadata": {},
      "outputs": [],
      "source": [
        "def generate_text(successor_map: dict, word='you', num_words=N_WORDS):\n",
        "    print(word, end=' ')\n",
        "    for _ in range(num_words):\n",
        "        print(word :=random.choice(successor_map[word]), end=' ')\n",
        "\n",
        "\n",
        "def create_successor_map(tokens: list[str]):\n",
        "    successor_map = defaultdict(list)\n",
        "    window = []\n",
        "    for token in tokens:\n",
        "        window.append(token)\n",
        "        if len(window) == 2:\n",
        "            successor_map[window[0]].append(window[1])\n",
        "            window.pop(0)\n",
        "\n",
        "    return successor_map"
      ]
    },
    {
      "cell_type": "markdown",
      "metadata": {},
      "source": [
        "### PnP"
      ]
    },
    {
      "cell_type": "code",
      "execution_count": 7,
      "metadata": {
        "colab": {
          "base_uri": "https://localhost:8080/"
        },
        "id": "s69XVQ2cY5Ep",
        "outputId": "55a3808f-df9a-4bb1-ebb3-18da46d5c8ec"
      },
      "outputs": [
        {
          "name": "stdout",
          "output_type": "stream",
          "text": [
            "you took his house for their own neighbourhood it is now i speak she added she "
          ]
        }
      ],
      "source": [
        "# create successor map\n",
        "pnp_successor_map_2 = create_successor_map(pnp_tokens)\n",
        "# print(pnp_successor_map_2['affect'], end='\\n\\n')\n",
        "\n",
        "# generate text\n",
        "generate_text(pnp_successor_map_2)"
      ]
    },
    {
      "cell_type": "markdown",
      "metadata": {},
      "source": [
        "### HP"
      ]
    },
    {
      "cell_type": "code",
      "execution_count": 8,
      "metadata": {},
      "outputs": [
        {
          "name": "stdout",
          "output_type": "stream",
          "text": [
            "you didnt manage to clear that snape and you in a counterargument ron who had been "
          ]
        }
      ],
      "source": [
        "# create successor map\n",
        "hp_successor_map_2 = create_successor_map(hp_tokens)\n",
        "# print(hp_successor_map_2['affect'], end='\\n\\n')\n",
        "\n",
        "# generate text\n",
        "generate_text(hp_successor_map_2)"
      ]
    },
    {
      "cell_type": "markdown",
      "metadata": {},
      "source": [
        "## N-Gram Model"
      ]
    },
    {
      "cell_type": "code",
      "execution_count": 9,
      "metadata": {},
      "outputs": [],
      "source": [
        "def create_successor_map(tokens: list[str], n_gram=N_GRAM):\n",
        "    successor_map = defaultdict(list)\n",
        "    window = []\n",
        "    for token in tokens:\n",
        "        window.append(token)\n",
        "        if len(window) == N_GRAM:\n",
        "            n_gram_key = tuple([window[i] for i in range(N_GRAM-1)])\n",
        "            successor_map[n_gram_key].append(window[N_GRAM-1])\n",
        "            window.pop(0)\n",
        "    return successor_map\n",
        "\n",
        "def generate_text(successor_map: dict, word_sequence: list[str], num_words=N_WORDS):\n",
        "    result = word_sequence.copy()\n",
        "    for _ in range(num_words):\n",
        "        next_word = random.choice(successor_map[tuple(word_sequence)])\n",
        "        word_sequence.pop(0)\n",
        "        word_sequence.append(next_word)\n",
        "        result.append(next_word)\n",
        "    print(' '.join(result))"
      ]
    },
    {
      "cell_type": "markdown",
      "metadata": {},
      "source": [
        "### PnP"
      ]
    },
    {
      "cell_type": "code",
      "execution_count": 10,
      "metadata": {
        "colab": {
          "base_uri": "https://localhost:8080/"
        },
        "id": "xUJBtM_TY5Eq",
        "outputId": "c9f4fd05-4ea0-4c9f-bad4-7167a7088425"
      },
      "outputs": [
        {
          "name": "stdout",
          "output_type": "stream",
          "text": [
            "you are a very strange creature by way of a friend is no merit with you to yield\n"
          ]
        }
      ],
      "source": [
        "# create successor map\n",
        "pnp_successor_map_4 = create_successor_map(pnp_tokens, 4)\n",
        "# print(pnp_successor_map_4[('you', 'are', 'a')], end='\\n\\n')\n",
        "\n",
        "# generate text\n",
        "word_sequence = ['you', 'are', 'a']\n",
        "generate_text(pnp_successor_map_4, word_sequence)"
      ]
    },
    {
      "cell_type": "markdown",
      "metadata": {},
      "source": [
        "### HP"
      ]
    },
    {
      "cell_type": "code",
      "execution_count": 11,
      "metadata": {},
      "outputs": [
        {
          "name": "stdout",
          "output_type": "stream",
          "text": [
            "you are a liar and dumbledores an old fool seamus looked up at harry harry potter mustnt be\n"
          ]
        }
      ],
      "source": [
        "# create successor map\n",
        "hp_successor_map_4 = create_successor_map(hp_tokens, 4)\n",
        "# print(hp_successor_map_4[('you', 'are', 'a')], end='\\n\\n')\n",
        "\n",
        "# generate text\n",
        "word_sequence = ['you', 'are', 'a']\n",
        "generate_text(hp_successor_map_4, word_sequence)"
      ]
    }
  ],
  "metadata": {
    "colab": {
      "provenance": []
    },
    "kernelspec": {
      "display_name": ".venv",
      "language": "python",
      "name": "python3"
    },
    "language_info": {
      "codemirror_mode": {
        "name": "ipython",
        "version": 3
      },
      "file_extension": ".py",
      "mimetype": "text/x-python",
      "name": "python",
      "nbconvert_exporter": "python",
      "pygments_lexer": "ipython3",
      "version": "3.10.12"
    }
  },
  "nbformat": 4,
  "nbformat_minor": 0
}
