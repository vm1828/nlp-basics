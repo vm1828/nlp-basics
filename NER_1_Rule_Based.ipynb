{
 "cells": [
  {
   "cell_type": "markdown",
   "id": "40ce84c3",
   "metadata": {},
   "source": [
    "# SETUP"
   ]
  },
  {
   "cell_type": "markdown",
   "id": "f1813a83",
   "metadata": {},
   "source": [
    "## Constants"
   ]
  },
  {
   "cell_type": "code",
   "execution_count": 1,
   "id": "95c28197",
   "metadata": {},
   "outputs": [],
   "source": [
    "from shared.constants import *"
   ]
  },
  {
   "cell_type": "markdown",
   "id": "093fa485",
   "metadata": {},
   "source": [
    "## Import"
   ]
  },
  {
   "cell_type": "code",
   "execution_count": 2,
   "id": "7707d486",
   "metadata": {},
   "outputs": [],
   "source": [
    "import re\n",
    "import json\n",
    "# import requests\n",
    "# from bs4 import BeautifulSoup"
   ]
  },
  {
   "cell_type": "markdown",
   "id": "1d396630",
   "metadata": {},
   "source": [
    "# DATA"
   ]
  },
  {
   "cell_type": "code",
   "execution_count": 3,
   "id": "0b16abe4",
   "metadata": {},
   "outputs": [],
   "source": [
    "# # Get characters\n",
    "\n",
    "# url = \"https://pemberley.com/janeinfo/ppdrmtis.html\"\n",
    "# res = requests.get(url)\n",
    "# soup = BeautifulSoup(res.content, \"html.parser\")\n",
    "\n",
    "# character_names = []\n",
    "# target_h2 = soup.find(\"h2\", string=\"Brief, Organized Listing of Characters\")\n",
    "# target_ul = target_h2.find_next(\"ul\")\n",
    "# for a in target_ul.find_all(\"a\"):\n",
    "#     name = a.get_text(strip=True).replace('\\n', ' ')\n",
    "#     if name:\n",
    "#         character_names.append(name)\n",
    "\n",
    "# print(character_names)\n",
    "# with open(JSON_CHARACTERS, \"w\", encoding=\"utf-8\") as f:\n",
    "#     json.dump(character_names, f, indent=4)"
   ]
  },
  {
   "cell_type": "code",
   "execution_count": 4,
   "id": "f558c621",
   "metadata": {},
   "outputs": [
    {
     "name": "stdout",
     "output_type": "stream",
     "text": [
      "['Mr. Bennet', 'Mrs. Bennet', 'Jane', 'Elizabeth', 'Mary', 'Kitty', 'Lydia', 'Bingley', 'Louisa Hurst', 'Caroline', 'Mr. Collins', 'Old Mr. Darcy', 'Lady Anne Darcy', 'Darcy', 'Georgiana Darcy', 'Lady Catherine', 'Anne de Bourgh', 'Colonel Fitzwilliam', 'Mr. Gardiner', 'Mrs. Gardiner', 'Sir William', 'Lady Lucas', 'Charlotte', 'Maria', 'Old Mr. Wickham', 'Wickham', 'Mrs. Annesley', 'Captain Carter', 'Mr. Chamberlayne', 'Dawson', 'Mr. Denny', 'Colonel Forster', 'William Goulding', 'Miss Grantley', 'Haggerston', 'The Harringtons', 'Mrs. Hill', 'Mr. Hurst', 'Mrs. Jenkinson', 'Mr. Jones', 'Miss Mary King', 'Mrs. Long', 'Lady Metcalfe', 'Mr. Morris', 'Mrs. Nicholls', 'Mr. Philips', 'Miss Pope', 'Mr. Pratt', 'Mrs. Reynolds', 'Mr. Robinson', 'Mr. Stone', 'Miss Watson', 'The Miss Webbs', 'Mrs. Younge']\n",
      "['Younge', 'Anne', 'Reynolds', 'Hill', 'Collins', 'Philips', 'Louisa', 'Chamberlayne', 'Bingley', 'Charlotte', 'Caroline', 'Long', 'Nicholls', 'Lucas', 'Pope', 'Jenkinson', 'Robinson', 'Hurst', 'Maria', 'Elizabeth', 'Dawson', 'King', 'Denny', 'Pratt', 'Bennet', 'Forster', 'Stone', 'Gardiner', 'Haggerston', 'Annesley', 'Fitzwilliam', 'Metcalfe', 'Carter', 'William', 'Kitty', 'Morris', 'Darcy', 'Wickham', 'Lydia', 'Bourgh', 'Jane', 'Mary', 'Jones', 'Grantley', 'Watson', 'Georgiana', 'Harringtons', 'Goulding', 'Catherine', 'Webbs']\n"
     ]
    }
   ],
   "source": [
    "# Load data\n",
    "with open(TXT_FILE, \"r\", encoding=\"utf-8\") as f:\n",
    "    text = f.read().strip()\n",
    "    text = re.split(PATTERN_CHAPTER_LINE, text)[1:6]\n",
    "\n",
    "with open(JSON_CHARACTERS, \"r\", encoding=\"utf-8\") as f:\n",
    "    characters = json.load(f)\n",
    "    names = set()\n",
    "    for character in characters:\n",
    "        names.update(\n",
    "            [\n",
    "                i for i in character.split() \n",
    "                if not i in ['Mr.', 'The', 'Mrs.', 'Miss', 'Old', 'Lady', 'de', 'Sir', 'Captain', 'Colonel']\n",
    "            ]\n",
    "        )\n",
    "    names = list(names)\n",
    "\n",
    "print(characters)\n",
    "print(names)"
   ]
  },
  {
   "cell_type": "markdown",
   "id": "dd03aafd",
   "metadata": {},
   "source": [
    "# NER"
   ]
  },
  {
   "cell_type": "markdown",
   "id": "8664b4e3",
   "metadata": {},
   "source": [
    "## Rule-Based NER (Gazetteer Method)"
   ]
  },
  {
   "cell_type": "code",
   "execution_count": 5,
   "id": "c5a3dade",
   "metadata": {},
   "outputs": [
    {
     "name": "stdout",
     "output_type": "stream",
     "text": [
      "\n",
      "\n",
      "Chapter 1:\n",
      "Mr Morris, Lady Lucas, Mr Bingley, Lydia, Mrs Long, Jane, Sir William, Mr Bennet, Bingley\n",
      "\n",
      "\n",
      "Chapter 2:\n",
      "Mr Bingley, Lydia, Mrs Bennet, Mrs Long, Elizabeth, Mary, While Mary, Now Kitty, Kitty, Mr Bennet\n",
      "\n",
      "\n",
      "Chapter 3:\n",
      "Elizabeth Bennet, Mr Bingley, Bingley, Mrs Hurst, Miss Bennet, Lady Lucas, Maria, Elizabeth, Come Darcy, Mr Bennet, Miss King, Sir William, Miss Lucas, Miss Bingley, Lydia, Mrs Bennet, Jane, Mary, Mr Hurst, Maria Lucas, Catherine, Mr Darcy\n",
      "\n",
      "\n",
      "Chapter 4:\n",
      "Darcy, Miss Bingley, Mr Bingley, When Jane, Elizabeth, Miss Bennet, Bingley, Mrs Hurst\n",
      "\n",
      "\n",
      "Chapter 5:\n",
      "Lucas, William Lucas, Lady Lucas, Miss Bingley, Mrs Bennet, Jane, Mrs Long, Elizabeth, Mary, Mr Robinson, Sir William, Mr Darcy, Miss Lucas, Miss Bennet, Charlotte\n"
     ]
    }
   ],
   "source": [
    "# Characters by Chapter\n",
    "for n_chapter, chapter in enumerate(text, start=1):\n",
    "    print(f'\\n\\nChapter {n_chapter}:')\n",
    "    chapter = chapter.strip().replace('\\n', ' ').translate(str.maketrans('', '', PUNCTUATION))\n",
    "    words = chapter.split() # NOTE: Mr and Mrs will be split\n",
    "\n",
    "    chapter_names = set()\n",
    "    for n, word in enumerate(words):\n",
    "        if word in names:\n",
    "            if (words[n-2] == 'Old') or (words[n-1] == 'de'):\n",
    "                chapter_names.add(' '.join(words[n-2:n+1])) # Handle 3-word names\n",
    "            elif words[n-1][0].isupper():\n",
    "                chapter_names.add(' '.join(words[n-1:n+1])) # Handle 2-word names\n",
    "            else:\n",
    "                chapter_names.add(word)\n",
    "    print(', '.join(chapter_names))"
   ]
  }
 ],
 "metadata": {
  "kernelspec": {
   "display_name": ".venv",
   "language": "python",
   "name": "python3"
  },
  "language_info": {
   "codemirror_mode": {
    "name": "ipython",
    "version": 3
   },
   "file_extension": ".py",
   "mimetype": "text/x-python",
   "name": "python",
   "nbconvert_exporter": "python",
   "pygments_lexer": "ipython3",
   "version": "3.10.12"
  }
 },
 "nbformat": 4,
 "nbformat_minor": 5
}
